{
  "nbformat": 4,
  "nbformat_minor": 0,
  "metadata": {
    "colab": {
      "name": "21_深層強化学習発展_2.ipynb",
      "provenance": [],
      "authorship_tag": "ABX9TyMmFFWgTUXiAkvh0KrASp63",
      "include_colab_link": true
    },
    "kernelspec": {
      "name": "python3",
      "display_name": "Python 3"
    },
    "language_info": {
      "name": "python"
    }
  },
  "cells": [
    {
      "cell_type": "markdown",
      "metadata": {
        "id": "view-in-github",
        "colab_type": "text"
      },
      "source": [
        "<a href=\"https://colab.research.google.com/github/mekabuko/DS_TIL/blob/main/Aidemy_Option/21_%E6%B7%B1%E5%B1%A4%E5%BC%B7%E5%8C%96%E5%AD%A6%E7%BF%92%E7%99%BA%E5%B1%95/21_%E6%B7%B1%E5%B1%A4%E5%BC%B7%E5%8C%96%E5%AD%A6%E7%BF%92%E7%99%BA%E5%B1%95_2.ipynb\" target=\"_parent\"><img src=\"https://colab.research.google.com/assets/colab-badge.svg\" alt=\"Open In Colab\"/></a>"
      ]
    },
    {
      "cell_type": "code",
      "metadata": {
        "colab": {
          "base_uri": "https://localhost:8080/"
        },
        "id": "-fAZCiJsI_ju",
        "outputId": "b1e57d0e-b4bb-44d6-b29b-f1d8c18856c9"
      },
      "source": [
        "!pip install tf-agents==0.6.0"
      ],
      "execution_count": 2,
      "outputs": [
        {
          "output_type": "stream",
          "text": [
            "Collecting tf-agents==0.6.0\n",
            "\u001b[?25l  Downloading https://files.pythonhosted.org/packages/7c/77/df0c0ca6f0b1a59b812d81d7737d8ea2a95d8716f9ffc1a68822531b78fb/tf_agents-0.6.0-py3-none-any.whl (1.1MB)\n",
            "\u001b[K     |████████████████████████████████| 1.1MB 4.0MB/s \n",
            "\u001b[?25hRequirement already satisfied: gin-config>=0.3.0 in /usr/local/lib/python3.7/dist-packages (from tf-agents==0.6.0) (0.4.0)\n",
            "Requirement already satisfied: tensorflow-probability>=0.11.0 in /usr/local/lib/python3.7/dist-packages (from tf-agents==0.6.0) (0.12.1)\n",
            "Requirement already satisfied: wrapt>=1.11.1 in /usr/local/lib/python3.7/dist-packages (from tf-agents==0.6.0) (1.12.1)\n",
            "Requirement already satisfied: absl-py>=0.6.1 in /usr/local/lib/python3.7/dist-packages (from tf-agents==0.6.0) (0.12.0)\n",
            "Requirement already satisfied: six>=1.10.0 in /usr/local/lib/python3.7/dist-packages (from tf-agents==0.6.0) (1.15.0)\n",
            "Requirement already satisfied: numpy>=1.13.3 in /usr/local/lib/python3.7/dist-packages (from tf-agents==0.6.0) (1.19.5)\n",
            "Requirement already satisfied: protobuf>=3.11.3 in /usr/local/lib/python3.7/dist-packages (from tf-agents==0.6.0) (3.12.4)\n",
            "Requirement already satisfied: cloudpickle==1.3 in /usr/local/lib/python3.7/dist-packages (from tf-agents==0.6.0) (1.3.0)\n",
            "Requirement already satisfied: decorator in /usr/local/lib/python3.7/dist-packages (from tensorflow-probability>=0.11.0->tf-agents==0.6.0) (4.4.2)\n",
            "Requirement already satisfied: dm-tree in /usr/local/lib/python3.7/dist-packages (from tensorflow-probability>=0.11.0->tf-agents==0.6.0) (0.1.6)\n",
            "Requirement already satisfied: gast>=0.3.2 in /usr/local/lib/python3.7/dist-packages (from tensorflow-probability>=0.11.0->tf-agents==0.6.0) (0.4.0)\n",
            "Requirement already satisfied: setuptools in /usr/local/lib/python3.7/dist-packages (from protobuf>=3.11.3->tf-agents==0.6.0) (57.0.0)\n",
            "Installing collected packages: tf-agents\n",
            "Successfully installed tf-agents-0.6.0\n"
          ],
          "name": "stdout"
        }
      ]
    },
    {
      "cell_type": "code",
      "metadata": {
        "colab": {
          "base_uri": "https://localhost:8080/"
        },
        "id": "k_p74q1uI6Cb",
        "outputId": "4e8dbcdc-dc8d-4018-98c3-eb0e333572e4"
      },
      "source": [
        "import numpy as np\n",
        "from tensorflow.compat.v1.train import AdamOptimizer\n",
        "from tf_agents.agents.dqn import dqn_agent\n",
        "from tf_agents.environments import suite_gym, tf_py_environment\n",
        "from tf_agents.networks import q_network\n",
        "from tf_agents.policies import random_tf_policy\n",
        "from tf_agents.replay_buffers import tf_uniform_replay_buffer\n",
        "from tf_agents.trajectories import trajectory\n",
        "from tf_agents.utils import common\n",
        "\n",
        "# 訓練用の環境と評価用の環境の作成\n",
        "ENV_NAME = 'CartPole-v0'\n",
        "env = suite_gym.load(ENV_NAME)\n",
        "train_env = tf_py_environment.TFPyEnvironment(env)\n",
        "eval_py_env = suite_gym.load(ENV_NAME)\n",
        "eval_env = tf_py_environment.TFPyEnvironment(eval_py_env)\n",
        "\n",
        "# 多層ニューラルネットワーク(Qネットワーク)の構築\n",
        "q_net = q_network.QNetwork(\n",
        "    train_env.observation_spec(),\n",
        "    train_env.action_spec(),\n",
        "    fc_layer_params=(16,16,16))\n",
        "\n",
        "\n",
        "# DQNエージェントの作成\n",
        "tf_agent = dqn_agent.DqnAgent(\n",
        "    train_env.time_step_spec(),\n",
        "    train_env.action_spec(),\n",
        "    q_network=q_net,\n",
        "    optimizer=AdamOptimizer(learning_rate=1e-3),\n",
        "    td_errors_loss_fn=common.element_wise_squared_loss)\n",
        "tf_agent.initialize()\n",
        "\n",
        "# 履歴の構築\n",
        "replay_buffer = tf_uniform_replay_buffer.TFUniformReplayBuffer(\n",
        "   data_spec=tf_agent.collect_data_spec,\n",
        "   batch_size=train_env.batch_size,\n",
        "   max_length=100000)\n",
        "\n",
        "\n",
        "# 評価値を計算する関数です\n",
        "def compute_avg_return(environment, policy, num_episodes=10):\n",
        "    total_return = 0.0\n",
        "    for _ in range(num_episodes):\n",
        "        time_step = environment.reset()\n",
        "        episode_return = 0.0\n",
        "        while not time_step.is_last():\n",
        "            action_step = policy.action(time_step)\n",
        "            time_step = environment.step(action_step.action)\n",
        "            episode_return += time_step.reward\n",
        "        total_return += episode_return\n",
        "    avg_return = total_return / num_episodes\n",
        "    return avg_return.numpy()[0]\n",
        "\n",
        "# 経験を集めてリプレイバッファに蓄積する関数です\n",
        "def collect_step(environment, policy):\n",
        "    time_step = environment.current_time_step()\n",
        "    action_step = policy.action(time_step)\n",
        "    next_time_step = environment.step(action_step.action)\n",
        "    traj = trajectory.from_transition(time_step, action_step, next_time_step)\n",
        "    replay_buffer.add_batch(traj)\n",
        "\n",
        "# 初めにランダムな方策を実行してリプレイバッファに蓄積します\n",
        "initial_collect_steps=1000\n",
        "random_policy = random_tf_policy.RandomTFPolicy(train_env.time_step_spec(), train_env.action_spec())\n",
        "for _ in range(initial_collect_steps):\n",
        "    collect_step(train_env, random_policy)\n",
        "dataset = replay_buffer.as_dataset(\n",
        "   num_parallel_calls=3, sample_batch_size=64, num_steps=2).prefetch(3)\n",
        "iterator = iter(dataset)\n",
        "\n",
        "num_eval_episodes = 5  \n",
        "eval_interval = 1000 \n",
        "num_iterations = 20000\n",
        "# 訓練前にモデルを評価します\n",
        "avg_return = compute_avg_return(eval_env, tf_agent.policy, num_eval_episodes)\n",
        "returns = [avg_return]\n",
        "for step in range(1, num_iterations+1):\n",
        "    # エージェントが環境(CartPole-v0)と相互作用して得た経験をリプレイバッファに追加します\n",
        "    collect_step(train_env, tf_agent.collect_policy)\n",
        "    # リプレイバッファから経験を取り出して学習を行います\n",
        "    experience, unused_info = next(iterator)\n",
        "    train_loss = tf_agent.train(experience)\n",
        "    # step数に応じてモデルの評価(テスト)を行います\n",
        "    if step % eval_interval == 0:\n",
        "        avg_return = compute_avg_return(eval_env, tf_agent.policy, num_eval_episodes)\n",
        "        print('step = {0}: Average Return = {1}'.format(step, avg_return))\n",
        "        returns.append(avg_return)"
      ],
      "execution_count": 3,
      "outputs": [
        {
          "output_type": "stream",
          "text": [
            "WARNING:root:Argument blacklist is deprecated. Please use denylist.\n",
            "WARNING:root:Argument blacklist is deprecated. Please use denylist.\n"
          ],
          "name": "stderr"
        },
        {
          "output_type": "stream",
          "text": [
            "WARNING:tensorflow:From /usr/local/lib/python3.7/dist-packages/tensorflow/python/autograph/impl/api.py:382: ReplayBuffer.get_next (from tf_agents.replay_buffers.replay_buffer) is deprecated and will be removed in a future version.\n",
            "Instructions for updating:\n",
            "Use `as_dataset(..., single_deterministic_pass=False) instead.\n"
          ],
          "name": "stdout"
        },
        {
          "output_type": "stream",
          "text": [
            "WARNING:tensorflow:From /usr/local/lib/python3.7/dist-packages/tensorflow/python/autograph/impl/api.py:382: ReplayBuffer.get_next (from tf_agents.replay_buffers.replay_buffer) is deprecated and will be removed in a future version.\n",
            "Instructions for updating:\n",
            "Use `as_dataset(..., single_deterministic_pass=False) instead.\n"
          ],
          "name": "stderr"
        },
        {
          "output_type": "stream",
          "text": [
            "WARNING:tensorflow:From /usr/local/lib/python3.7/dist-packages/tensorflow/python/util/dispatch.py:206: calling foldr_v2 (from tensorflow.python.ops.functional_ops) with back_prop=False is deprecated and will be removed in a future version.\n",
            "Instructions for updating:\n",
            "back_prop=False is deprecated. Consider using tf.stop_gradient instead.\n",
            "Instead of:\n",
            "results = tf.foldr(fn, elems, back_prop=False)\n",
            "Use:\n",
            "results = tf.nest.map_structure(tf.stop_gradient, tf.foldr(fn, elems))\n"
          ],
          "name": "stdout"
        },
        {
          "output_type": "stream",
          "text": [
            "WARNING:tensorflow:From /usr/local/lib/python3.7/dist-packages/tensorflow/python/util/dispatch.py:206: calling foldr_v2 (from tensorflow.python.ops.functional_ops) with back_prop=False is deprecated and will be removed in a future version.\n",
            "Instructions for updating:\n",
            "back_prop=False is deprecated. Consider using tf.stop_gradient instead.\n",
            "Instead of:\n",
            "results = tf.foldr(fn, elems, back_prop=False)\n",
            "Use:\n",
            "results = tf.nest.map_structure(tf.stop_gradient, tf.foldr(fn, elems))\n"
          ],
          "name": "stderr"
        },
        {
          "output_type": "stream",
          "text": [
            "step = 1000: Average Return = 20.200000762939453\n",
            "step = 2000: Average Return = 109.19999694824219\n",
            "step = 3000: Average Return = 183.60000610351562\n",
            "step = 4000: Average Return = 200.0\n",
            "step = 5000: Average Return = 200.0\n",
            "step = 6000: Average Return = 172.39999389648438\n",
            "step = 7000: Average Return = 122.5999984741211\n",
            "step = 8000: Average Return = 10.0\n",
            "step = 9000: Average Return = 200.0\n",
            "step = 10000: Average Return = 52.0\n",
            "step = 11000: Average Return = 200.0\n",
            "step = 12000: Average Return = 171.60000610351562\n",
            "step = 13000: Average Return = 167.8000030517578\n",
            "step = 14000: Average Return = 200.0\n",
            "step = 15000: Average Return = 200.0\n",
            "step = 16000: Average Return = 200.0\n",
            "step = 17000: Average Return = 200.0\n",
            "step = 18000: Average Return = 200.0\n",
            "step = 19000: Average Return = 200.0\n",
            "step = 20000: Average Return = 200.0\n"
          ],
          "name": "stdout"
        }
      ]
    },
    {
      "cell_type": "code",
      "metadata": {
        "id": "e6gmXzaUMIty"
      },
      "source": [
        ""
      ],
      "execution_count": null,
      "outputs": []
    },
    {
      "cell_type": "code",
      "metadata": {
        "id": "xzMHXsfrI7PA"
      },
      "source": [
        ""
      ],
      "execution_count": null,
      "outputs": []
    }
  ]
}