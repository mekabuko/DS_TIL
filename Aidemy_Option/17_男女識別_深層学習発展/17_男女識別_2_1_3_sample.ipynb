{
  "nbformat": 4,
  "nbformat_minor": 0,
  "metadata": {
    "colab": {
      "name": "17_男女識別_2_1_3_sample.ipynb",
      "provenance": [],
      "toc_visible": true,
      "authorship_tag": "ABX9TyO/iK+4XeGzrxZKTcnUGHuh",
      "include_colab_link": true
    },
    "kernelspec": {
      "name": "python3",
      "display_name": "Python 3"
    },
    "language_info": {
      "name": "python"
    }
  },
  "cells": [
    {
      "cell_type": "markdown",
      "metadata": {
        "id": "view-in-github",
        "colab_type": "text"
      },
      "source": [
        "<a href=\"https://colab.research.google.com/github/mekabuko/DS_TIL/blob/main/Aidemy_Option/17_%E7%94%B7%E5%A5%B3%E8%AD%98%E5%88%A5_%E6%B7%B1%E5%B1%A4%E5%AD%A6%E7%BF%92%E7%99%BA%E5%B1%95/17_%E7%94%B7%E5%A5%B3%E8%AD%98%E5%88%A5_2_1_3_sample.ipynb\" target=\"_parent\"><img src=\"https://colab.research.google.com/assets/colab-badge.svg\" alt=\"Open In Colab\"/></a>"
      ]
    },
    {
      "cell_type": "markdown",
      "metadata": {
        "id": "vAorYP-OJteP"
      },
      "source": [
        "# Aidemy １7. 男女識別\n",
        "## 2.1.3 転移学習　サンプルコード\n",
        "- VGGを転移元として、オリジナルのモデルを定義、実行"
      ]
    },
    {
      "cell_type": "markdown",
      "metadata": {
        "id": "BlWxl1J5KDQQ"
      },
      "source": [
        "### ライブラリ"
      ]
    },
    {
      "cell_type": "code",
      "metadata": {
        "id": "KdvuVo1EIk-s"
      },
      "source": [
        "import matplotlib.pyplot as plt\n",
        "import numpy as np\n",
        "from tensorflow.keras.utils import plot_model\n",
        "from tensorflow.keras import optimizers\n",
        "from tensorflow.keras.applications.vgg16 import VGG16\n",
        "from tensorflow.keras.datasets import cifar10\n",
        "from tensorflow.keras.layers import Dense, Dropout, Flatten, Input\n",
        "from tensorflow.keras.models import Model, Sequential\n",
        "from tensorflow.keras.utils import to_categorical\n"
      ],
      "execution_count": 2,
      "outputs": []
    },
    {
      "cell_type": "markdown",
      "metadata": {
        "id": "PNGiucvsKKys"
      },
      "source": [
        "### データの取り込み"
      ]
    },
    {
      "cell_type": "code",
      "metadata": {
        "id": "Ws34oV2FJbcK"
      },
      "source": [
        "(X_train, y_train), (X_test, y_test) = cifar10.load_data()"
      ],
      "execution_count": 3,
      "outputs": []
    },
    {
      "cell_type": "markdown",
      "metadata": {
        "id": "NKkvwFhbKO2U"
      },
      "source": [
        "### 今回は一部だけを使用"
      ]
    },
    {
      "cell_type": "code",
      "metadata": {
        "id": "GowKhULNKOYa"
      },
      "source": [
        "# 1000 枚だけ使います\n",
        "X_train = X_train[:1000]\n",
        "X_test = X_test[:1000]\n",
        "# 正解ラベルも、1000枚分\n",
        "y_train = to_categorical(y_train)[:1000]\n",
        "y_test = to_categorical(y_test)[:1000]"
      ],
      "execution_count": 4,
      "outputs": []
    },
    {
      "cell_type": "markdown",
      "metadata": {
        "id": "3Sa-lg5pKbTw"
      },
      "source": [
        "### 転移元(VGG16)を定義"
      ]
    },
    {
      "cell_type": "code",
      "metadata": {
        "id": "nCSGxtO6KNgZ"
      },
      "source": [
        "input_tensor = Input(shape=(32, 32, 3))\n",
        "vgg16 = VGG16(include_top=False, weights='imagenet', input_tensor=input_tensor)"
      ],
      "execution_count": 5,
      "outputs": []
    },
    {
      "cell_type": "markdown",
      "metadata": {
        "id": "IWCZgmZQKhGT"
      },
      "source": [
        "###  転移先を定義"
      ]
    },
    {
      "cell_type": "code",
      "metadata": {
        "id": "eOr4kDw1Kg7q"
      },
      "source": [
        "top_model = Sequential()\n",
        "top_model.add(Flatten(input_shape=vgg16.output_shape[1:]))\n",
        "top_model.add(Dense(256, activation='relu'))\n",
        "top_model.add(Dropout(rate=0.5)) # ドロップアウトの追加\n",
        "top_model.add(Dense(10, activation='softmax'))"
      ],
      "execution_count": 12,
      "outputs": []
    },
    {
      "cell_type": "markdown",
      "metadata": {
        "id": "dRp5f06hKk5F"
      },
      "source": [
        "### 連結"
      ]
    },
    {
      "cell_type": "code",
      "metadata": {
        "id": "B5jnOoPAKgc3"
      },
      "source": [
        "model = Model(inputs=vgg16.input, outputs=top_model(vgg16.output))"
      ],
      "execution_count": 13,
      "outputs": []
    },
    {
      "cell_type": "markdown",
      "metadata": {
        "id": "R3IvPnlSKnDB"
      },
      "source": [
        "### 転移元の部分は重みを固定"
      ]
    },
    {
      "cell_type": "code",
      "metadata": {
        "id": "KnUj04A4Keim"
      },
      "source": [
        "for layer in model.layers[:19]: # 19層目までがVGG\n",
        "    layer.trainable = False"
      ],
      "execution_count": 14,
      "outputs": []
    },
    {
      "cell_type": "markdown",
      "metadata": {
        "id": "OPmc08qmKu1T"
      },
      "source": [
        "### コンパイル"
      ]
    },
    {
      "cell_type": "code",
      "metadata": {
        "id": "XZOywK6DKuLH"
      },
      "source": [
        "model.compile(loss='categorical_crossentropy',\n",
        "              optimizer=optimizers.SGD(learning_rate=1e-4, momentum=0.9),\n",
        "              metrics=['accuracy'])"
      ],
      "execution_count": 15,
      "outputs": []
    },
    {
      "cell_type": "markdown",
      "metadata": {
        "id": "bWs_pM-pMPKP"
      },
      "source": [
        "### モデルの要約"
      ]
    },
    {
      "cell_type": "code",
      "metadata": {
        "colab": {
          "base_uri": "https://localhost:8080/"
        },
        "id": "nJteEEa2MO0k",
        "outputId": "84ea0cf4-a0c8-44c3-feac-baaea7256d32"
      },
      "source": [
        "model.summary()"
      ],
      "execution_count": 16,
      "outputs": [
        {
          "output_type": "stream",
          "text": [
            "Model: \"model_2\"\n",
            "_________________________________________________________________\n",
            "Layer (type)                 Output Shape              Param #   \n",
            "=================================================================\n",
            "input_2 (InputLayer)         [(None, 32, 32, 3)]       0         \n",
            "_________________________________________________________________\n",
            "block1_conv1 (Conv2D)        (None, 32, 32, 64)        1792      \n",
            "_________________________________________________________________\n",
            "block1_conv2 (Conv2D)        (None, 32, 32, 64)        36928     \n",
            "_________________________________________________________________\n",
            "block1_pool (MaxPooling2D)   (None, 16, 16, 64)        0         \n",
            "_________________________________________________________________\n",
            "block2_conv1 (Conv2D)        (None, 16, 16, 128)       73856     \n",
            "_________________________________________________________________\n",
            "block2_conv2 (Conv2D)        (None, 16, 16, 128)       147584    \n",
            "_________________________________________________________________\n",
            "block2_pool (MaxPooling2D)   (None, 8, 8, 128)         0         \n",
            "_________________________________________________________________\n",
            "block3_conv1 (Conv2D)        (None, 8, 8, 256)         295168    \n",
            "_________________________________________________________________\n",
            "block3_conv2 (Conv2D)        (None, 8, 8, 256)         590080    \n",
            "_________________________________________________________________\n",
            "block3_conv3 (Conv2D)        (None, 8, 8, 256)         590080    \n",
            "_________________________________________________________________\n",
            "block3_pool (MaxPooling2D)   (None, 4, 4, 256)         0         \n",
            "_________________________________________________________________\n",
            "block4_conv1 (Conv2D)        (None, 4, 4, 512)         1180160   \n",
            "_________________________________________________________________\n",
            "block4_conv2 (Conv2D)        (None, 4, 4, 512)         2359808   \n",
            "_________________________________________________________________\n",
            "block4_conv3 (Conv2D)        (None, 4, 4, 512)         2359808   \n",
            "_________________________________________________________________\n",
            "block4_pool (MaxPooling2D)   (None, 2, 2, 512)         0         \n",
            "_________________________________________________________________\n",
            "block5_conv1 (Conv2D)        (None, 2, 2, 512)         2359808   \n",
            "_________________________________________________________________\n",
            "block5_conv2 (Conv2D)        (None, 2, 2, 512)         2359808   \n",
            "_________________________________________________________________\n",
            "block5_conv3 (Conv2D)        (None, 2, 2, 512)         2359808   \n",
            "_________________________________________________________________\n",
            "block5_pool (MaxPooling2D)   (None, 1, 1, 512)         0         \n",
            "_________________________________________________________________\n",
            "sequential_2 (Sequential)    (None, 10)                133898    \n",
            "=================================================================\n",
            "Total params: 14,848,586\n",
            "Trainable params: 133,898\n",
            "Non-trainable params: 14,714,688\n",
            "_________________________________________________________________\n"
          ],
          "name": "stdout"
        }
      ]
    },
    {
      "cell_type": "markdown",
      "metadata": {
        "id": "RV8LgAS7K2bp"
      },
      "source": [
        "### 学習"
      ]
    },
    {
      "cell_type": "code",
      "metadata": {
        "colab": {
          "base_uri": "https://localhost:8080/"
        },
        "id": "XRYndH0RK10L",
        "outputId": "6bc0fa32-45e8-4cb7-df29-0250fa11b8f5"
      },
      "source": [
        "#学習過程の取得\n",
        "history = model.fit(X_train, y_train, batch_size=100, epochs=1, validation_data=(X_test, y_test))"
      ],
      "execution_count": 17,
      "outputs": [
        {
          "output_type": "stream",
          "text": [
            "10/10 [==============================] - 21s 2s/step - loss: 33.2072 - accuracy: 0.1020 - val_loss: 15.9514 - val_accuracy: 0.1400\n"
          ],
          "name": "stdout"
        }
      ]
    },
    {
      "cell_type": "markdown",
      "metadata": {
        "id": "z_ah3e3hK6c8"
      },
      "source": [
        "### 予測"
      ]
    },
    {
      "cell_type": "code",
      "metadata": {
        "colab": {
          "base_uri": "https://localhost:8080/",
          "height": 283
        },
        "id": "hsOfkG4GK5_W",
        "outputId": "f6f8679a-de50-41b5-b381-a66fb4685126"
      },
      "source": [
        "for i in range(1):\n",
        "    x = X_test[i]\n",
        "    plt.imshow(x)\n",
        "    plt.show()\n",
        "    pred = np.argmax(model.predict(x.reshape(1,32,32,3)))\n",
        "    print(pred)"
      ],
      "execution_count": 18,
      "outputs": [
        {
          "output_type": "display_data",
          "data": {
            "image/png": "[encoded data removed]",
            "text/plain": [
              "<Figure size 432x288 with 1 Axes>"
            ]
          },
          "metadata": {
            "tags": [],
            "needs_background": "light"
          }
        },
        {
          "output_type": "stream",
          "text": [
            "9\n"
          ],
          "name": "stdout"
        }
      ]
    },
    {
      "cell_type": "code",
      "metadata": {
        "id": "VhyI5D9NLWbJ"
      },
      "source": [
        ""
      ],
      "execution_count": null,
      "outputs": []
    }
  ]
}