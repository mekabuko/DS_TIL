{
  "nbformat": 4,
  "nbformat_minor": 0,
  "metadata": {
    "colab": {
      "name": "22_強化学習三目並べ_1.ipynb",
      "provenance": [],
      "authorship_tag": "ABX9TyOAL0vNWI6/07O/8q0r59cg",
      "include_colab_link": true
    },
    "kernelspec": {
      "name": "python3",
      "display_name": "Python 3"
    },
    "language_info": {
      "name": "python"
    }
  },
  "cells": [
    {
      "cell_type": "markdown",
      "metadata": {
        "id": "view-in-github",
        "colab_type": "text"
      },
      "source": [
        "<a href=\"https://colab.research.google.com/github/mekabuko/DS_TIL/blob/main/Aidemy_Option/22_%E5%BC%B7%E5%8C%96%E5%AD%A6%E7%BF%92%E4%B8%89%E7%9B%AE%E4%B8%A6%E3%81%B9/22_%E5%BC%B7%E5%8C%96%E5%AD%A6%E7%BF%92%E4%B8%89%E7%9B%AE%E4%B8%A6%E3%81%B9_1.ipynb\" target=\"_parent\"><img src=\"https://colab.research.google.com/assets/colab-badge.svg\" alt=\"Open In Colab\"/></a>"
      ]
    },
    {
      "cell_type": "code",
      "metadata": {
        "colab": {
          "base_uri": "https://localhost:8080/",
          "height": 449
        },
        "id": "qXyersz2oMOU",
        "outputId": "8b4c9fbb-4b62-4f64-8f55-1dffff954224"
      },
      "source": [
        "import numpy as np\n",
        "import matplotlib.pyplot as plt\n",
        "\n",
        "class Environment():    \n",
        "    def start(self):\n",
        "        self.Map = np.array([ 0,  0,  0,  0,  0,  0,  0,  0,  0])\n",
        "        return self.Map\n",
        "    \n",
        "    def terminal(self, Map, num_player):\n",
        "        vhd = []\n",
        "        for i in range(3):\n",
        "            vhd.append(Map[i+0] * Map[i+3] * Map[i+6])\n",
        "            vhd.append(Map[0+3*i] * Map[1+3*i] * Map[2+3*i])\n",
        "        vhd.append(Map[0] * Map[4] * Map[8])\n",
        "        vhd.append(Map[2] * Map[4] * Map[6])    \n",
        "        vhd = np.array(vhd)\n",
        "        vhd -= num_player**3\n",
        "        done = (vhd.prod() == 0)\n",
        "        return done \n",
        "    \n",
        "    def step(self, action):\n",
        "        reward = 0.0\n",
        "        \n",
        "        # Agentが打ちます\n",
        "        self.Map[action] = 1\n",
        "        done = self.terminal(self.Map, num_player=1) \n",
        "        \n",
        "        # 先手(Agent)が勝ちの場合\n",
        "        if done:\n",
        "            reward = 1.0\n",
        "        #「勝ちが決まらない」かつ「9マス埋まっている」場合、引き分けで終了\n",
        "        elif self.Map.prod() != 0:\n",
        "            reward = -0.5\n",
        "            done = True\n",
        "        # 先手が打って終了しなかった場合、Enermyが打ちます\n",
        "        else:                      \n",
        "            # get_action_Enemy関数から、actionを取得します\n",
        "            action = self.get_action_Enemy(self.Map)\n",
        "            self.Map[action] = 2\n",
        "            done = self.terminal(self.Map, num_player=2) \n",
        "            if done:\n",
        "                reward = -1.0\n",
        "        return self.Map, reward, done\n",
        "    \n",
        "    def get_action_Enemy(self,Map):\n",
        "        # 空白取得\n",
        "        empty_Map_list = np.where(Map == 0)[0]\n",
        "        \n",
        "        if np.random.rand() <= 0.25:\n",
        "            action = np.random.choice(empty_Map_list, 1)\n",
        "        else:\n",
        "            #Agentが次の一手を打った場合に勝利するかどうか\n",
        "            done_future_list1 = []\n",
        "            #Enemyが次の一手を打った場合に勝利するかどうか\n",
        "            done_future_list2 = []\n",
        "            for j in range(len(empty_Map_list)):\n",
        "                future_Map1 = np.copy(Map)\n",
        "                future_Map2 = np.copy(Map)\n",
        "                future_Map1[empty_Map_list[j]] = 1\n",
        "                future_Map2[empty_Map_list[j]] = 2                \n",
        "                done_future_list1.append(self.terminal(future_Map1,num_player=1))\n",
        "                done_future_list2.append(self.terminal(future_Map2,num_player=2))\n",
        "            done_future_list1 = np.array(done_future_list1)  \n",
        "            done_future_list2 = np.array(done_future_list2) \n",
        "            \n",
        "            # done_future_list2にTrueが存在する場合\n",
        "            if len(np.where(done_future_list2==True)[0]) > 0:\n",
        "                # done_future_list2からTrueのactionを抜き出し\n",
        "                temp_list = np.where(done_future_list2 == True)[0]\n",
        "                action = empty_Map_list[np.random.choice(temp_list)]\n",
        "            # done_future_list1にTrueが存在する場合\n",
        "            elif len(np.where(done_future_list1==True)[0]) > 0:\n",
        "                # done_future_list1からTrueのactionを抜き出し\n",
        "                temp_list = np.where(done_future_list1 == True)[0]\n",
        "                action = empty_Map_list[np.random.choice(temp_list)]\n",
        "            else:\n",
        "                action = np.random.choice(empty_Map_list, 1)\n",
        "            \n",
        "        return action\n",
        "\n",
        "# 初期設定\n",
        "np.random.seed(0)\n",
        "episodes = 100\n",
        "result_interval= 10\n",
        "total_win, total_draw, total_lose = 0,0,0\n",
        "\n",
        "# インスタンス作成\n",
        "env=Environment()\n",
        "\n",
        "#グラフ用のデータ格納リストを宣言\n",
        "episodes_list = []\n",
        "win_or_draw_list = []\n",
        "\n",
        "for num_episode in range(episodes):\n",
        "    Map = env.start()\n",
        "    done = False\n",
        "    step = 1\n",
        "    while not done:\n",
        "        # actionをここで指定し、最終的にはactionを計算して返す関数に置き換えます\n",
        "        action = np.random.choice(np.where(Map == 0)[0])\n",
        "        new_Map,reward,done = env.step(action)\n",
        "        Map = np.copy(new_Map)\n",
        "        step += 1\n",
        "    \n",
        "    # 結果を記録するための処理です\n",
        "    if reward == 1.0:\n",
        "            total_win += 1\n",
        "    elif reward == -0.5:\n",
        "            total_draw += 1\n",
        "    elif reward == -1.0:\n",
        "            total_lose += 1\n",
        "    \n",
        "    if (num_episode+1)%result_interval == 0:\n",
        "        print('Episode: {}, {} wins, {} draws, {} loses'.format((num_episode+1), total_win, total_draw, total_lose))\n",
        "        \n",
        "        # ファイルに出力(Web上ではファイルに出力できないのでコメントアウトしています。)\n",
        "        with open('result.txt', 'a') as f:\n",
        "            f.writelines('Episode: {}, {} wins, {} draws, {} loses'.format((num_episode+1), total_win, total_draw, total_lose) + '\\n')\n",
        "        #グラフ用のデータを保存\n",
        "        episodes_list.append(num_episode+1)\n",
        "        win_or_draw_list.append((total_win+total_draw)/result_interval*100)\n",
        "        # 変数をリセット\n",
        "        total_win, total_draw, total_lose = 0,0,0       \n",
        "        \n",
        "\n",
        "# 学習結果をグラフで出力\n",
        "plt.plot(np.asarray(episodes_list), np.asarray(win_or_draw_list))\n",
        "plt.xlabel('Episodes')\n",
        "plt.ylabel('Win or Draw rate (%)')\n",
        "plt.xlim(0,)\n",
        "plt.ylim(0,102)\n",
        "plt.grid(True)"
      ],
      "execution_count": 4,
      "outputs": [
        {
          "output_type": "stream",
          "text": [
            "Episode: 10, 2 wins, 2 draws, 6 loses\n",
            "Episode: 20, 2 wins, 5 draws, 3 loses\n",
            "Episode: 30, 4 wins, 2 draws, 4 loses\n",
            "Episode: 40, 2 wins, 1 draws, 7 loses\n",
            "Episode: 50, 3 wins, 1 draws, 6 loses\n",
            "Episode: 60, 1 wins, 1 draws, 8 loses\n",
            "Episode: 70, 0 wins, 3 draws, 7 loses\n",
            "Episode: 80, 4 wins, 1 draws, 5 loses\n",
            "Episode: 90, 2 wins, 4 draws, 4 loses\n",
            "Episode: 100, 2 wins, 3 draws, 5 loses\n"
          ],
          "name": "stdout"
        },
        {
          "output_type": "display_data",
          "data": {
            "image/png": "[encoded data removed]",
            "text/plain": [
              "<Figure size 432x288 with 1 Axes>"
            ]
          },
          "metadata": {
            "tags": [],
            "needs_background": "light"
          }
        }
      ]
    },
    {
      "cell_type": "code",
      "metadata": {
        "id": "YC2s-ksNoNhl"
      },
      "source": [
        ""
      ],
      "execution_count": null,
      "outputs": []
    }
  ]
}